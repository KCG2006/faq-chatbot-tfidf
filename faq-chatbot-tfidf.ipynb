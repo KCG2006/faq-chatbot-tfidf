{
 "cells": [
  {
   "cell_type": "code",
   "execution_count": 22,
   "id": "caef0e21-adab-4619-a8a3-8b9252f2d7f1",
   "metadata": {},
   "outputs": [],
   "source": [
    "#import libraries\n",
    "import pandas as pd\n",
    "#TfidfVectorizer is better than CountVectorizer, so we gonna pick TfidfVectorizer\n",
    "# from sklearn.feature_extraction.text import CountVectorizer\n",
    "from sklearn.feature_extraction.text import TfidfVectorizer"
   ]
  },
  {
   "cell_type": "code",
   "execution_count": 2,
   "id": "b65c4fd2-3eac-4a62-abf5-276745a57f4b",
   "metadata": {},
   "outputs": [],
   "source": [
    "#load data \n",
    "URL = \"https://gitlab.com/tangibleai/nlpia2/-/raw/main/src/nlpia2/data/faqbot.csv\"\n",
    "faq = pd.read_csv(URL)"
   ]
  },
  {
   "cell_type": "code",
   "execution_count": 3,
   "id": "21c68147-abe2-4ff5-8f36-00ec9dbd686f",
   "metadata": {},
   "outputs": [
    {
     "data": {
      "text/html": [
       "<div>\n",
       "<style scoped>\n",
       "    .dataframe tbody tr th:only-of-type {\n",
       "        vertical-align: middle;\n",
       "    }\n",
       "\n",
       "    .dataframe tbody tr th {\n",
       "        vertical-align: top;\n",
       "    }\n",
       "\n",
       "    .dataframe thead th {\n",
       "        text-align: right;\n",
       "    }\n",
       "</style>\n",
       "<table border=\"1\" class=\"dataframe\">\n",
       "  <thead>\n",
       "    <tr style=\"text-align: right;\">\n",
       "      <th></th>\n",
       "      <th>Unnamed: 0</th>\n",
       "      <th>question</th>\n",
       "      <th>answer</th>\n",
       "    </tr>\n",
       "  </thead>\n",
       "  <tbody>\n",
       "    <tr>\n",
       "      <th>0</th>\n",
       "      <td>0</td>\n",
       "      <td>What kinds of data can a machine learning mode...</td>\n",
       "      <td>Machine learning models can only train on nume...</td>\n",
       "    </tr>\n",
       "    <tr>\n",
       "      <th>1</th>\n",
       "      <td>1</td>\n",
       "      <td>What are the basic variable data types in python?</td>\n",
       "      <td>`float`, `int`, `str`, and `bool`</td>\n",
       "    </tr>\n",
       "    <tr>\n",
       "      <th>2</th>\n",
       "      <td>2</td>\n",
       "      <td>What is a static model or distribution?</td>\n",
       "      <td>A probability distribution or model whose unde...</td>\n",
       "    </tr>\n",
       "    <tr>\n",
       "      <th>3</th>\n",
       "      <td>3</td>\n",
       "      <td>What is a leverage plot and what should I look...</td>\n",
       "      <td>I don't know.</td>\n",
       "    </tr>\n",
       "    <tr>\n",
       "      <th>4</th>\n",
       "      <td>4</td>\n",
       "      <td>What are replicants in the context of bootstra...</td>\n",
       "      <td>I don't know but I imagine they are the duplic...</td>\n",
       "    </tr>\n",
       "  </tbody>\n",
       "</table>\n",
       "</div>"
      ],
      "text/plain": [
       "   Unnamed: 0                                           question  \\\n",
       "0           0  What kinds of data can a machine learning mode...   \n",
       "1           1  What are the basic variable data types in python?   \n",
       "2           2            What is a static model or distribution?   \n",
       "3           3  What is a leverage plot and what should I look...   \n",
       "4           4  What are replicants in the context of bootstra...   \n",
       "\n",
       "                                              answer  \n",
       "0  Machine learning models can only train on nume...  \n",
       "1                  `float`, `int`, `str`, and `bool`  \n",
       "2  A probability distribution or model whose unde...  \n",
       "3                                      I don't know.  \n",
       "4  I don't know but I imagine they are the duplic...  "
      ]
     },
     "execution_count": 3,
     "metadata": {},
     "output_type": "execute_result"
    }
   ],
   "source": [
    "faq.head()"
   ]
  },
  {
   "cell_type": "code",
   "execution_count": 5,
   "id": "11a3117a-2a19-4b21-8d73-c113d0f32909",
   "metadata": {},
   "outputs": [
    {
     "data": {
      "text/plain": [
       "72"
      ]
     },
     "execution_count": 5,
     "metadata": {},
     "output_type": "execute_result"
    }
   ],
   "source": [
    "len(faq)"
   ]
  },
  {
   "cell_type": "code",
   "execution_count": 12,
   "id": "d956c974-34fc-40c3-8860-0f89a0be609d",
   "metadata": {},
   "outputs": [
    {
     "data": {
      "text/plain": [
       "72"
      ]
     },
     "execution_count": 12,
     "metadata": {},
     "output_type": "execute_result"
    }
   ],
   "source": [
    "len(faq.question.tolist())"
   ]
  },
  {
   "cell_type": "code",
   "execution_count": 23,
   "id": "4c3212ab-02dc-426a-b2dc-e50ad7fc8618",
   "metadata": {},
   "outputs": [
    {
     "data": {
      "text/plain": [
       "array([[0., 0., 0., ..., 0., 0., 0.],\n",
       "       [0., 0., 0., ..., 0., 0., 0.],\n",
       "       [0., 0., 0., ..., 0., 0., 0.],\n",
       "       ...,\n",
       "       [0., 0., 0., ..., 0., 0., 0.],\n",
       "       [0., 0., 0., ..., 0., 0., 0.],\n",
       "       [0., 0., 0., ..., 0., 0., 0.]], shape=(72, 323))"
      ]
     },
     "execution_count": 23,
     "metadata": {},
     "output_type": "execute_result"
    }
   ],
   "source": [
    "vectorizer = TfidfVectorizer()\n",
    "counts = vectorizer.fit_transform(faq.question.tolist())\n",
    "counts.toarray()"
   ]
  },
  {
   "cell_type": "code",
   "execution_count": 24,
   "id": "9a76d0f8-e59c-4cb9-a682-f18f79a5c7d4",
   "metadata": {},
   "outputs": [],
   "source": [
    "# create response function\n",
    "def response(question):\n",
    "    question_vector = vectorizer.transform([question])\n",
    "    dot_product = question_vector.dot(counts.T)\n",
    "    idx = dot_product.argmax()\n",
    "    answer = faq.answer[idx]\n",
    "\n",
    "    return f\"question you ask: {question}, FAQ question: {faq.question[idx]}, Answer: {answer}\""
   ]
  },
  {
   "cell_type": "code",
   "execution_count": 25,
   "id": "d74bcef7-2ec8-4951-bb03-e4e223a80ab9",
   "metadata": {},
   "outputs": [
    {
     "data": {
      "text/plain": [
       "'question you ask: What is machine learning?, FAQ question: What kinds of data can a machine learning model train on?, Answer: Machine learning models can only train on numerical data.'"
      ]
     },
     "execution_count": 25,
     "metadata": {},
     "output_type": "execute_result"
    }
   ],
   "source": [
    "response(\"What is machine learning?\")"
   ]
  },
  {
   "cell_type": "code",
   "execution_count": 26,
   "id": "9e7c2296-ed53-44b2-b819-1de8e55303a7",
   "metadata": {},
   "outputs": [
    {
     "data": {
      "text/plain": [
       "'question you ask: is movie dataset good?, FAQ question: Is the movie review dataset a good one?, Answer: Yes.'"
      ]
     },
     "execution_count": 26,
     "metadata": {},
     "output_type": "execute_result"
    }
   ],
   "source": [
    "response(\"is movie dataset good?\")"
   ]
  },
  {
   "cell_type": "code",
   "execution_count": null,
   "id": "22bfbddf-9e43-4ea2-a888-06c6274ebc60",
   "metadata": {},
   "outputs": [],
   "source": []
  }
 ],
 "metadata": {
  "kernelspec": {
   "display_name": "Python 3 (ipykernel)",
   "language": "python",
   "name": "python3"
  },
  "language_info": {
   "codemirror_mode": {
    "name": "ipython",
    "version": 3
   },
   "file_extension": ".py",
   "mimetype": "text/x-python",
   "name": "python",
   "nbconvert_exporter": "python",
   "pygments_lexer": "ipython3",
   "version": "3.13.5"
  }
 },
 "nbformat": 4,
 "nbformat_minor": 5
}
